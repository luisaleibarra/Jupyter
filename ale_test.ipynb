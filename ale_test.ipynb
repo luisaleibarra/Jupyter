{
 "cells": [
  {
   "cell_type": "code",
   "execution_count": 1,
   "metadata": {},
   "outputs": [
    {
     "name": "stdout",
     "output_type": "stream",
     "text": [
      "3\n"
     ]
    }
   ],
   "source": [
    "def perro(sentence):\n",
    "    count = 0\n",
    "    clean = sentence.lower().split()\n",
    "    for word in clean:\n",
    "        if word == \"dog\":\n",
    "            count += 1\n",
    "    return count\n",
    "\n",
    "result = perro(\"this dog is the best dog among all the dogs in the dog world\")\n",
    "print(result)"
   ]
  },
  {
   "cell_type": "code",
   "execution_count": 3,
   "metadata": {},
   "outputs": [
    {
     "name": "stdout",
     "output_type": "stream",
     "text": [
      "Current count: 1\n",
      "Current count: 2\n",
      "Current count: 3\n",
      "Current count: 4\n",
      "Current count: 5\n",
      "Current count: 6\n",
      "Current count: 7\n",
      "Current count: 8\n",
      "Current count: 9\n",
      "Current count: 10\n",
      "final count: 10\n"
     ]
    }
   ],
   "source": [
    "count = 0 \n",
    "for i in range (1, 11):\n",
    "    count += 1\n",
    "    print(f\"Current count: {count}\")\n",
    "print(f\"final count: {count}\")"
   ]
  },
  {
   "cell_type": "code",
   "execution_count": null,
   "metadata": {},
   "outputs": [],
   "source": []
  }
 ],
 "metadata": {
  "kernelspec": {
   "display_name": "Python 3",
   "language": "python",
   "name": "python3"
  },
  "language_info": {
   "codemirror_mode": {
    "name": "ipython",
    "version": 3
   },
   "file_extension": ".py",
   "mimetype": "text/x-python",
   "name": "python",
   "nbconvert_exporter": "python",
   "pygments_lexer": "ipython3",
   "version": "3.11.9"
  }
 },
 "nbformat": 4,
 "nbformat_minor": 2
}
